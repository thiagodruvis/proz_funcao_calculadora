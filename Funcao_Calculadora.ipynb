{
  "nbformat": 4,
  "nbformat_minor": 0,
  "metadata": {
    "colab": {
      "provenance": [],
      "authorship_tag": "ABX9TyOkCc5gyi50HYhTiky2uM5h",
      "include_colab_link": true
    },
    "kernelspec": {
      "name": "python3",
      "display_name": "Python 3"
    },
    "language_info": {
      "name": "python"
    }
  },
  "cells": [
    {
      "cell_type": "markdown",
      "metadata": {
        "id": "view-in-github",
        "colab_type": "text"
      },
      "source": [
        "<a href=\"https://colab.research.google.com/github/thiagodruvis/proz_funcao_calculadora/blob/main/Funcao_Calculadora.ipynb\" target=\"_parent\"><img src=\"https://colab.research.google.com/assets/colab-badge.svg\" alt=\"Open In Colab\"/></a>"
      ]
    },
    {
      "cell_type": "code",
      "execution_count": 14,
      "metadata": {
        "id": "6EdDMHIniz4y"
      },
      "outputs": [],
      "source": [
        "# FUNÇÃO CALCULADORA\n",
        "\n",
        "# Faça uma função calculadora de dois números com três parâmetros:\n",
        "# os dois primeiros serão os números da operação e o terceiro será a entrada que definirá\n",
        "# a operação a ser executada. Considera a seguinte definição:\n",
        "\n",
        "# 1. Soma\n",
        "# 2. Subtração\n",
        "# 3. Multiplicação\n",
        "# 4. Divisão\n",
        "\n",
        "# Caso seja inserido um número de operação que não exista, o resultado deverá ser 0.\n",
        "\n",
        "def calculadora(num1, num2, operacao):\n",
        "  if (operacao == 1):\n",
        "    return num1 + num2\n",
        "\n",
        "  elif (operacao == 2):\n",
        "    return num1 - num2\n",
        "\n",
        "  elif (operacao == 3):\n",
        "    return num1 * num2\n",
        "\n",
        "  elif (operacao == 4):\n",
        "    return  num1 / num2\n",
        "\n",
        "  else:\n",
        "      return 0\n",
        "\n"
      ]
    },
    {
      "cell_type": "code",
      "source": [
        "resultado = calculadora(2, 6, 1)\n",
        "print(resultado)\n"
      ],
      "metadata": {
        "colab": {
          "base_uri": "https://localhost:8080/"
        },
        "id": "HDMurGL1kvOx",
        "outputId": "755a6a55-9d7e-4136-a374-bf8c88436829"
      },
      "execution_count": 15,
      "outputs": [
        {
          "output_type": "stream",
          "name": "stdout",
          "text": [
            "8\n"
          ]
        }
      ]
    },
    {
      "cell_type": "code",
      "source": [
        "resultado = calculadora(8, 4, 2)\n",
        "print(resultado)"
      ],
      "metadata": {
        "colab": {
          "base_uri": "https://localhost:8080/"
        },
        "id": "IyIQZjTEootX",
        "outputId": "928af282-c0d6-46b9-ef49-b187927ac2e2"
      },
      "execution_count": 23,
      "outputs": [
        {
          "output_type": "stream",
          "name": "stdout",
          "text": [
            "4\n"
          ]
        }
      ]
    },
    {
      "cell_type": "code",
      "source": [
        "resultado = calculadora(4, 5, 3)\n",
        "print(resultado)"
      ],
      "metadata": {
        "colab": {
          "base_uri": "https://localhost:8080/"
        },
        "id": "d-jyIUM0rk4P",
        "outputId": "764b7323-53c6-4320-dfa8-e4c8a47b7163"
      },
      "execution_count": 24,
      "outputs": [
        {
          "output_type": "stream",
          "name": "stdout",
          "text": [
            "20\n"
          ]
        }
      ]
    },
    {
      "cell_type": "code",
      "source": [
        "resultado = calculadora(20, 4, 4)\n",
        "print(resultado)"
      ],
      "metadata": {
        "colab": {
          "base_uri": "https://localhost:8080/"
        },
        "id": "1b15MnEkrtUS",
        "outputId": "7e71731b-009a-487a-8b53-537ef13155a5"
      },
      "execution_count": 25,
      "outputs": [
        {
          "output_type": "stream",
          "name": "stdout",
          "text": [
            "5.0\n"
          ]
        }
      ]
    },
    {
      "cell_type": "code",
      "source": [],
      "metadata": {
        "id": "K3GI7wgPtfTI"
      },
      "execution_count": null,
      "outputs": []
    },
    {
      "cell_type": "code",
      "source": [
        "resultado = calculadora(3, 0, \"divisao\")\n",
        "print(resultado)"
      ],
      "metadata": {
        "colab": {
          "base_uri": "https://localhost:8080/"
        },
        "id": "97p7RdKCr0xZ",
        "outputId": "aafcf63f-a9fd-488f-9191-6aa1ac5c1c40"
      },
      "execution_count": 26,
      "outputs": [
        {
          "output_type": "stream",
          "name": "stdout",
          "text": [
            "0\n"
          ]
        }
      ]
    },
    {
      "cell_type": "code",
      "source": [],
      "metadata": {
        "id": "JDuB4fatr6-z"
      },
      "execution_count": null,
      "outputs": []
    }
  ]
}